{
 "cells": [
  {
   "cell_type": "code",
   "execution_count": 4,
   "metadata": {},
   "outputs": [
    {
     "name": "stdout",
     "output_type": "stream",
     "text": [
      "Original Vector V: (1, 2, 3)\n",
      "Perpendicular Vector V': [-0.89442719  0.4472136   0.        ]\n"
     ]
    }
   ],
   "source": [
    "def find_perpendicular_vector(v):\n",
    "    # Unpack the vector components\n",
    "    a, b, c = v\n",
    "\n",
    "    # Check if the vector is not a zero vector\n",
    "    if a == 0 and b == 0 and c == 0:\n",
    "        raise ValueError(\"The input vector must not be the zero vector.\")\n",
    "    \n",
    "    # If the vector is along the x-axis\n",
    "    if a != 0 or b != 0:\n",
    "        # Use a vector that is not parallel to v (e.g., along z-axis)\n",
    "        v_perpendicular = np.array([-b, a, 0])\n",
    "    else:\n",
    "        # Use a vector that is not parallel to v (e.g., along y-axis)\n",
    "        v_perpendicular = np.array([0, -c, b])\n",
    "    \n",
    "    # Normalize the perpendicular vector\n",
    "    v_perpendicular = v_perpendicular / np.linalg.norm(v_perpendicular)\n",
    "    \n",
    "    return v_perpendicular\n",
    "\n",
    "# Example usage:\n",
    "V = (1, 2, 3)  # Replace with your vector (a, b, c)\n",
    "V_perpendicular = find_perpendicular_vector(V)\n",
    "print(\"Original Vector V:\", V)\n",
    "print(\"Perpendicular Vector V':\", V_perpendicular)\n"
   ]
  },
  {
   "cell_type": "code",
   "execution_count": 5,
   "metadata": {},
   "outputs": [
    {
     "name": "stdout",
     "output_type": "stream",
     "text": [
      "Quaternion Q = (QW, QX, QY, QZ): (0, 0.2672612419124244, 0.5345224838248488, 0.8017837257372732)\n"
     ]
    }
   ],
   "source": [
    "def normalize_vector(v):\n",
    "    norm = np.linalg.norm(v)\n",
    "    if norm == 0: \n",
    "        raise ValueError(\"The vector should not be zero\")\n",
    "    return v / norm\n",
    "\n",
    "def quaternion_180_degree_rotation(v):\n",
    "    # Normalize the vector V\n",
    "    v_norm = normalize_vector(v)\n",
    "    \n",
    "    # The quaternion for 180-degree rotation around V\n",
    "    qw = 0\n",
    "    qx, qy, qz = v_norm\n",
    "    \n",
    "    return (qw, qx, qy, qz)\n",
    "\n",
    "V = np.array([1, 2, 3])  \n",
    "V0 = np.array([0, 1, 0])  # Initial vector (v0)\n",
    "Q = quaternion_180_degree_rotation(V)\n",
    "\n",
    "print(\"Quaternion Q = (QW, QX, QY, QZ):\", Q)"
   ]
  },
  {
   "cell_type": "code",
   "execution_count": 6,
   "metadata": {},
   "outputs": [
    {
     "name": "stdout",
     "output_type": "stream",
     "text": [
      "Original Vector V: [0 0 1]\n",
      "Rotated Vector V': [-0.05250174  0.9982751  -0.0262854 ]\n"
     ]
    }
   ],
   "source": [
    "def quaternion_to_rotation_matrix(q):\n",
    "    QW, QX, QY, QZ = q\n",
    "    \n",
    "    # Compute the rotation matrix from the quaternion\n",
    "    R = np.array([\n",
    "        [1 - 2*QY**2 - 2*QZ**2, 2*QX*QY - 2*QZ*QW, 2*QX*QZ + 2*QY*QW],\n",
    "        [2*QX*QY + 2*QZ*QW, 1 - 2*QX**2 - 2*QZ**2, 2*QY*QZ - 2*QX*QW],\n",
    "        [2*QX*QZ - 2*QY*QW, 2*QY*QZ + 2*QX*QW, 1 - 2*QX**2 - 2*QY**2]\n",
    "    ])\n",
    "    \n",
    "    return R\n",
    "\n",
    "def rotate_vector_by_quaternion(v, q):\n",
    "    # Get the rotation matrix from the quaternion\n",
    "    R = quaternion_to_rotation_matrix(q)\n",
    "    \n",
    "    # Rotate the vector using the rotation matrix\n",
    "    v_rotated = np.dot(R, v)\n",
    "    \n",
    "    return v_rotated\n",
    "\n",
    "# Initial vector V = (0, 0, 1)\n",
    "V = np.array([0,0,1])\n",
    "Q =  (-0.29549739238222106, 0.268869009462429, 0.6639669823283616, 0.6320908582021806)  # Replace with your quaternion\n",
    "V_rotated = rotate_vector_by_quaternion(V, Q)\n",
    "\n",
    "print(\"Original Vector V:\", V)\n",
    "print(\"Rotated Vector V':\", V_rotated)"
   ]
  },
  {
   "cell_type": "code",
   "execution_count": 7,
   "metadata": {},
   "outputs": [
    {
     "name": "stdout",
     "output_type": "stream",
     "text": [
      "Quaternion Q = (QW, QX, QY, QZ): (0.22381384259430193, 0.2787292491219647, 0.0, -0.32110614585566283)\n"
     ]
    }
   ],
   "source": [
    "def normalize_vector(v):\n",
    "    norm = np.linalg.norm(v)\n",
    "    if norm == 0: \n",
    "        return v\n",
    "    return v / norm\n",
    "\n",
    "def find_rotation_quaternion(v1, v2):\n",
    "    # Normalize the vectors\n",
    "    v1 = normalize_vector(v1)\n",
    "    v2 = normalize_vector(v2)\n",
    "    \n",
    "    # Compute the dot product (cosine of the angle)\n",
    "    dot_product = np.dot(v1, v2)\n",
    "    \n",
    "    # If the vectors are exactly opposite, special case handling\n",
    "    if np.isclose(dot_product, -1.0):\n",
    "        # Choose an arbitrary orthogonal vector for the axis of rotation\n",
    "        orthogonal_vector = np.array([1, 0, 0]) if not np.allclose(v1, [1, 0, 0]) else np.array([0, 1, 0])\n",
    "        # Compute the axis of rotation (cross product)\n",
    "        axis = normalize_vector(np.cross(v1, orthogonal_vector))\n",
    "        # 180 degrees rotation quaternion\n",
    "        qw = 0\n",
    "        qx, qy, qz = axis\n",
    "    else:\n",
    "        # Compute the axis of rotation (cross product)\n",
    "        axis = np.cross(v1, v2)\n",
    "        # Compute the angle of rotation (acos of the dot product)\n",
    "        qw = np.sqrt((1.0 + dot_product) / 2.0)\n",
    "        qx, qy, qz = axis * np.sqrt((1.0 - dot_product) / 2.0)\n",
    "    \n",
    "    return (qw, qx, qy, qz)\n",
    "\n",
    "V_initial = np.array([0,1,0])  \n",
    "V_target = np.array([ 0.32946418, -0.89981517,  0.28598426])  \n",
    "\n",
    "Q = find_rotation_quaternion(V_initial, V_target)\n",
    "print(\"Quaternion Q = (QW, QX, QY, QZ):\", Q)\n"
   ]
  },
  {
   "cell_type": "code",
   "execution_count": 8,
   "metadata": {},
   "outputs": [],
   "source": [
    "def quaternion_multiply(Q1, Q2):\n",
    "    w1, x1, y1, z1 = Q1\n",
    "    w2, x2, y2, z2 = Q2\n",
    "    \n",
    "    w = w2*w1 - x2*x1 - y2*y1 - z2*z1\n",
    "    x = w2*x1 + x2*w1 + y2*z1 - z2*y1\n",
    "    y = w2*y1 - x2*z1 + y2*w1 + z2*x1\n",
    "    z = w2*z1 + x2*y1 - y2*x1 + z2*w1\n",
    "    \n",
    "    return (w, x, y, z)\n"
   ]
  },
  {
   "cell_type": "code",
   "execution_count": 17,
   "metadata": {},
   "outputs": [
    {
     "name": "stdout",
     "output_type": "stream",
     "text": [
      "Quaternion (QW, QX, QY, QZ): (-0.07271178992085355, 0.9971673702109805, 0.004160580316428108, 0.018786190791474776)\n",
      "Translation Vector (T): [-0.01509804 -0.02527492  0.5566319 ]\n"
     ]
    }
   ],
   "source": [
    "import numpy as np\n",
    "from scipy.spatial.transform import Rotation as R\n",
    "\n",
    "transform = \"0.99925953721395411 0.011029544981853946 0.036860906451799354 -0.01509804 0.0055656347488827985 -0.98939137035587255 0.145167971588677 -0.025274920999999999 0.038070999419467191 -0.14485532576616622 -0.98872014928410379 0.55663189999999996 0 0 0 1\"\n",
    "transform_list = transform.split(\" \")\n",
    "camera_transform = []\n",
    "for t in transform_list:\n",
    "    camera_transform.append(float(t))\n",
    "\n",
    "camera_transform_matrix = np.array(camera_transform).reshape(4, 4)\n",
    "rotation_matrix = camera_transform_matrix[:3, :3]\n",
    "translation_vector = camera_transform_matrix[:3, 3]\n",
    "\n",
    "# Convert rotation matrix to quaternion\n",
    "rotation = R.from_matrix(rotation_matrix)\n",
    "quaternion = rotation.as_quat()\n",
    "\n",
    "qx, qy, qz, qw = quaternion\n",
    "\n",
    "# Print the results\n",
    "print(f\"Quaternion (QW, QX, QY, QZ): ({qw}, {qx}, {qy}, {qz})\")\n",
    "print(f\"Translation Vector (T): {translation_vector}\")"
   ]
  },
  {
   "cell_type": "code",
   "execution_count": 16,
   "metadata": {},
   "outputs": [
    {
     "name": "stdout",
     "output_type": "stream",
     "text": [
      "-0.997151 -0.072498 -0.019595 -0.006956\n"
     ]
    }
   ],
   "source": [
    "Q1 = [qw, qx, qy, qz]\n",
    "\n",
    "v0 = (0,1,0)\n",
    "# Q1 = (0.201833, 0.894234, 0.096727, -0.387625)\n",
    "v1 = rotate_vector_by_quaternion(v0, Q1)\n",
    "# print(v1)\n",
    "\n",
    "V_perpendicular = find_perpendicular_vector(v1)\n",
    "Q2 = quaternion_180_degree_rotation(V_perpendicular)\n",
    "v2 = rotate_vector_by_quaternion(v1, Q2)\n",
    "# print(v2)\n",
    "\n",
    "# V_initial = np.array(v1)  # Replace with your vector (a, b, c)\n",
    "# V_target = -V_initial  # The opposite vector (-a, -b, -c)\n",
    "# Q2 = find_rotation_quaternion(V_initial, V_target)\n",
    "\n",
    "Q3 = quaternion_multiply(Q1, Q2)\n",
    "\n",
    "v3 = rotate_vector_by_quaternion(v0, Q3)\n",
    "# print(v3)\n",
    "QQ = \"\"\n",
    "for i in range(4):\n",
    "    QQ = QQ + str(round(Q3[i],6))\n",
    "    if i < 3:\n",
    "        QQ = QQ + \" \"\n",
    "print(QQ)"
   ]
  }
 ],
 "metadata": {
  "kernelspec": {
   "display_name": "imlcw1",
   "language": "python",
   "name": "python3"
  },
  "language_info": {
   "codemirror_mode": {
    "name": "ipython",
    "version": 3
   },
   "file_extension": ".py",
   "mimetype": "text/x-python",
   "name": "python",
   "nbconvert_exporter": "python",
   "pygments_lexer": "ipython3",
   "version": "3.10.12"
  }
 },
 "nbformat": 4,
 "nbformat_minor": 2
}
